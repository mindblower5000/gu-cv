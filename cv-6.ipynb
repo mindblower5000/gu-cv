{
 "cells": [
  {
   "cell_type": "markdown",
   "metadata": {},
   "source": [
    "### HW6 Мельчук А.Б.\n",
    "\n",
    "Обучить сиамскую сеть для верификации лиц на датасете LFW\n",
    "Библиотеки: [Python, Tensorflow]"
   ]
  },
  {
   "cell_type": "code",
   "execution_count": 1,
   "metadata": {
    "colab": {},
    "colab_type": "code",
    "id": "7rQPMxpD9kMC"
   },
   "outputs": [
    {
     "name": "stderr",
     "output_type": "stream",
     "text": [
      "Using TensorFlow backend.\n"
     ]
    }
   ],
   "source": [
    "from __future__ import absolute_import\n",
    "from __future__ import print_function\n",
    "import numpy as np\n",
    "\n",
    "import random\n",
    "from keras.datasets import mnist\n",
    "from keras.models import Model\n",
    "from keras.layers import Input, Flatten, Dense, Dropout, Lambda, Conv2D, MaxPool2D\n",
    "from keras.optimizers import RMSprop\n",
    "from keras import backend as K\n",
    "import tensorflow as tf"
   ]
  },
  {
   "cell_type": "code",
   "execution_count": 2,
   "metadata": {
    "colab": {
     "base_uri": "https://localhost:8080/",
     "height": 34
    },
    "colab_type": "code",
    "id": "xUYv6ROU9j8j",
    "outputId": "0c9229df-b517-4bad-f6f7-dd3bbbe46d1d"
   },
   "outputs": [
    {
     "name": "stderr",
     "output_type": "stream",
     "text": [
      "Downloading LFW metadata: https://ndownloader.figshare.com/files/5976012\n",
      "Downloading LFW metadata: https://ndownloader.figshare.com/files/5976009\n",
      "Downloading LFW metadata: https://ndownloader.figshare.com/files/5976006\n",
      "Downloading LFW data (~200MB): https://ndownloader.figshare.com/files/5976015\n"
     ]
    },
    {
     "data": {
      "text/plain": [
       "(2200, 2, 125, 94, 3)"
      ]
     },
     "execution_count": 2,
     "metadata": {},
     "output_type": "execute_result"
    }
   ],
   "source": [
    "# Для нашей задачи скачаем датасет с sklearn, поскольку он имеет удобное разбиение на пары одинаковых/разных людей\n",
    "from sklearn.datasets import fetch_lfw_pairs\n",
    "lfw_pairs_train = fetch_lfw_pairs(subset='train', color=True, resize=1.)\n",
    "\n",
    "lfw_pairs_train.pairs.shape"
   ]
  },
  {
   "cell_type": "code",
   "execution_count": 3,
   "metadata": {
    "colab": {
     "base_uri": "https://localhost:8080/",
     "height": 34
    },
    "colab_type": "code",
    "id": "ATz6pvA0-V5N",
    "outputId": "cce10fe3-54fa-4826-88d9-4b12bdb72f18"
   },
   "outputs": [
    {
     "data": {
      "text/plain": [
       "(1000, 2, 125, 94, 3)"
      ]
     },
     "execution_count": 3,
     "metadata": {},
     "output_type": "execute_result"
    }
   ],
   "source": [
    "lfw_pairs_test = fetch_lfw_pairs(subset='test', color=True, resize=1.)\n",
    "\n",
    "lfw_pairs_test.pairs.shape"
   ]
  },
  {
   "cell_type": "code",
   "execution_count": 4,
   "metadata": {
    "colab": {},
    "colab_type": "code",
    "id": "V2x-AUYt974_"
   },
   "outputs": [],
   "source": [
    "lfw_pairs_test.pairs = lfw_pairs_test.pairs.astype('float32')\n",
    "lfw_pairs_train.pairs = lfw_pairs_train.pairs.astype('float32')\n",
    "lfw_pairs_test.pairs /= 255\n",
    "lfw_pairs_train.pairs /= 255"
   ]
  },
  {
   "cell_type": "code",
   "execution_count": 5,
   "metadata": {
    "colab": {},
    "colab_type": "code",
    "id": "FzCpwTSs_bhJ"
   },
   "outputs": [],
   "source": [
    "input_shape = 125, 94, 3"
   ]
  },
  {
   "cell_type": "code",
   "execution_count": 6,
   "metadata": {
    "colab": {
     "base_uri": "https://localhost:8080/",
     "height": 419
    },
    "colab_type": "code",
    "id": "8OkFxPFO8f8S",
    "outputId": "ae2de060-485b-416b-c1cb-4f0972ab7e5a"
   },
   "outputs": [
    {
     "name": "stdout",
     "output_type": "stream",
     "text": [
      "Train on 2200 samples, validate on 1000 samples\n",
      "Epoch 1/10\n",
      "2200/2200 [==============================] - 47s 21ms/step - loss: 423.1533 - accuracy: 0.5288 - val_loss: 0.3834 - val_accuracy: 0.4883\n",
      "Epoch 2/10\n",
      "2200/2200 [==============================] - 44s 20ms/step - loss: 0.2694 - accuracy: 0.4951 - val_loss: 0.3814 - val_accuracy: 0.4883\n",
      "Epoch 3/10\n",
      "2200/2200 [==============================] - 48s 22ms/step - loss: 0.2670 - accuracy: 0.5297 - val_loss: 0.4271 - val_accuracy: 0.4883\n",
      "Epoch 4/10\n",
      "2200/2200 [==============================] - 48s 22ms/step - loss: 0.2782 - accuracy: 0.5049 - val_loss: 0.4065 - val_accuracy: 0.4883\n",
      "Epoch 5/10\n",
      "2200/2200 [==============================] - 47s 21ms/step - loss: 0.3138 - accuracy: 0.5017 - val_loss: 0.3442 - val_accuracy: 0.5002\n",
      "Epoch 6/10\n",
      "2200/2200 [==============================] - 43s 20ms/step - loss: 0.2912 - accuracy: 0.5019 - val_loss: 0.3653 - val_accuracy: 0.4883\n",
      "Epoch 7/10\n",
      "2200/2200 [==============================] - 43s 20ms/step - loss: 0.2949 - accuracy: 0.5132 - val_loss: 0.3485 - val_accuracy: 0.4932\n",
      "Epoch 8/10\n",
      "2200/2200 [==============================] - 44s 20ms/step - loss: 0.5601 - accuracy: 0.4810 - val_loss: 0.4549 - val_accuracy: 0.4883\n",
      "Epoch 9/10\n",
      "2200/2200 [==============================] - 46s 21ms/step - loss: 0.2887 - accuracy: 0.5127 - val_loss: 0.2895 - val_accuracy: 0.5255\n",
      "Epoch 10/10\n",
      "2200/2200 [==============================] - 46s 21ms/step - loss: 0.3129 - accuracy: 0.5084 - val_loss: 0.3591 - val_accuracy: 0.4873\n",
      "* Accuracy on training set: 50.41%\n",
      "* Accuracy on test set: 49.90%\n"
     ]
    }
   ],
   "source": [
    "\n",
    "epochs = 10\n",
    "\n",
    "\n",
    "def euclidean_distance(vects):\n",
    "    x, y = vects\n",
    "    sum_square = K.sum(K.square(x - y), axis=1, keepdims=True)\n",
    "    return K.sqrt(K.maximum(sum_square, K.epsilon()))\n",
    "\n",
    "\n",
    "def eucl_dist_output_shape(shapes):\n",
    "    shape1, shape2 = shapes\n",
    "    return (shape1[0], 1)\n",
    "\n",
    "\n",
    "def contrastive_loss(y_true, y_pred):\n",
    "    '''Contrastive loss from Hadsell-et-al.'06\n",
    "    http://yann.lecun.com/exdb/publis/pdf/hadsell-chopra-lecun-06.pdf\n",
    "    '''\n",
    "    margin = 1\n",
    "    square_pred = K.square(y_pred)\n",
    "    margin_square = K.square(K.maximum(margin - y_pred, 0))\n",
    "    return K.mean(y_true * square_pred + (1 - y_true) * margin_square)\n",
    "\n",
    "\n",
    "def create_base_network(input_shape):\n",
    "    '''Base network to be shared (eq. to feature extraction).\n",
    "    '''\n",
    "    input = Input(shape=input_shape)\n",
    "    x = Conv2D(32, (5, 5), padding='same', activation='relu')(input)\n",
    "    x = MaxPool2D((2, 2), (2, 2))(x)\n",
    "    x = Conv2D(64, (5, 5), padding='same', activation='relu')(x)\n",
    "    x = MaxPool2D((2, 2), (2, 2))(x)\n",
    "    x = Flatten()(x)\n",
    "    x = Dense(128, activation='relu')(x)\n",
    "    x = Dropout(0.1)(x)\n",
    "    x = Dense(128, activation='relu')(x)\n",
    "    x = Dropout(0.1)(x)\n",
    "    x = Dense(128, activation='relu')(x)\n",
    "    return Model(input, x)\n",
    "\n",
    "\n",
    "def compute_accuracy(y_true, y_pred):\n",
    "    '''Compute classification accuracy with a fixed threshold on distances.\n",
    "    '''\n",
    "    pred = y_pred.ravel() < 0.5\n",
    "    return np.mean(pred == y_true)\n",
    "\n",
    "\n",
    "def accuracy(y_true, y_pred):\n",
    "    '''Compute classification accuracy with a fixed threshold on distances.\n",
    "    '''\n",
    "    return K.mean(K.equal(y_true, K.cast(y_pred < 0.5, y_true.dtype)))\n",
    "\n",
    "\n",
    "\n",
    "# network definition\n",
    "base_network = create_base_network(input_shape)\n",
    "\n",
    "input_a = Input(shape=input_shape)\n",
    "input_b = Input(shape=input_shape)\n",
    "\n",
    "# because we re-use the same instance `base_network`,\n",
    "# the weights of the network\n",
    "# will be shared across the two branches\n",
    "processed_a = base_network(input_a)\n",
    "processed_b = base_network(input_b)\n",
    "\n",
    "distance = Lambda(euclidean_distance,\n",
    "                  output_shape=eucl_dist_output_shape)([processed_a, processed_b])\n",
    "\n",
    "model = Model([input_a, input_b], distance)\n",
    "\n",
    "# train\n",
    "rms = RMSprop()\n",
    "model.compile(loss=contrastive_loss, optimizer=rms, metrics=[accuracy])\n",
    "model.fit([lfw_pairs_train.pairs[:, 0], lfw_pairs_train.pairs[:, 1]], lfw_pairs_train.target,\n",
    "          batch_size=128,\n",
    "          epochs=epochs,\n",
    "          validation_data=([lfw_pairs_test.pairs[:, 0], lfw_pairs_test.pairs[:, 1]], lfw_pairs_test.target))\n",
    "\n",
    "# compute final accuracy on training and test sets\n",
    "y_pred = model.predict([lfw_pairs_train.pairs[:, 0], lfw_pairs_train.pairs[:, 1]])\n",
    "tr_acc = compute_accuracy(lfw_pairs_train.target, y_pred)\n",
    "y_pred = model.predict([lfw_pairs_test.pairs[:, 0], lfw_pairs_test.pairs[:, 1]])\n",
    "te_acc = compute_accuracy(lfw_pairs_test.target, y_pred)\n",
    "\n",
    "print('* Accuracy on training set: %0.2f%%' % (100 * tr_acc))\n",
    "print('* Accuracy on test set: %0.2f%%' % (100 * te_acc))"
   ]
  },
  {
   "cell_type": "code",
   "execution_count": null,
   "metadata": {},
   "outputs": [],
   "source": []
  }
 ],
 "metadata": {
  "kernelspec": {
   "display_name": "Python 3",
   "language": "python",
   "name": "python3"
  },
  "language_info": {
   "codemirror_mode": {
    "name": "ipython",
    "version": 3
   },
   "file_extension": ".py",
   "mimetype": "text/x-python",
   "name": "python",
   "nbconvert_exporter": "python",
   "pygments_lexer": "ipython3",
   "version": "3.7.6"
  }
 },
 "nbformat": 4,
 "nbformat_minor": 2
}
