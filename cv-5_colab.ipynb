{
  "nbformat": 4,
  "nbformat_minor": 0,
  "metadata": {
    "kernelspec": {
      "display_name": "Python 3",
      "language": "python",
      "name": "python3"
    },
    "language_info": {
      "codemirror_mode": {
        "name": "ipython",
        "version": 3
      },
      "file_extension": ".py",
      "mimetype": "text/x-python",
      "name": "python",
      "nbconvert_exporter": "python",
      "pygments_lexer": "ipython3",
      "version": "3.7.6"
    },
    "colab": {
      "name": "cv-5.ipynb",
      "provenance": [],
      "private_outputs": true,
      "collapsed_sections": [],
      "toc_visible": true
    },
    "accelerator": "GPU"
  },
  "cells": [
    {
      "cell_type": "markdown",
      "metadata": {
        "id": "Iua1mhIrJxBM",
        "colab_type": "text"
      },
      "source": [
        "HW5 Мельчук А.Б.\n",
        "Обучить детектор объектов с помощью TensorFlow Object Detection API\n",
        "Библиотеки: [Python, Tensorflow]"
      ]
    },
    {
      "cell_type": "code",
      "metadata": {
        "id": "Y0HMlEdrtvrf",
        "colab_type": "code",
        "colab": {}
      },
      "source": [
        "%tensorflow_version 1.x\n",
        "import tensorflow as tf"
      ],
      "execution_count": 0,
      "outputs": []
    },
    {
      "cell_type": "code",
      "metadata": {
        "colab_type": "code",
        "id": "-SnLQ7nnngWY",
        "colab": {}
      },
      "source": [
        "!git clone https://github.com/Dju999/TFFashionDetection.git\n",
        "!pip install lxml\n",
        "!pip install -U -q PyDrive\n",
        "!pip install tqdm"
      ],
      "execution_count": 0,
      "outputs": []
    },
    {
      "cell_type": "markdown",
      "metadata": {
        "colab_type": "text",
        "id": "iDZblpnNNdDO"
      },
      "source": [
        "#### Качаем датасет [DeepFashion](http://mmlab.ie.cuhk.edu.hk/projects/DeepFashion.html) и монтируем его"
      ]
    },
    {
      "cell_type": "code",
      "metadata": {
        "id": "ncFYHUvWRNXu",
        "colab_type": "code",
        "colab": {}
      },
      "source": [
        "from google.colab import drive\n",
        "drive.mount('/content/drive')"
      ],
      "execution_count": 0,
      "outputs": []
    },
    {
      "cell_type": "code",
      "metadata": {
        "colab_type": "code",
        "id": "tfG6hijtnrYG",
        "colab": {}
      },
      "source": [
        "from TFFashionDetection.utils.colab_fs import GoogleColabFS\n",
        "\n",
        "fs = GoogleColabFS()"
      ],
      "execution_count": 0,
      "outputs": []
    },
    {
      "cell_type": "code",
      "metadata": {
        "id": "PrpAfXyZM2q0",
        "colab_type": "code",
        "colab": {}
      },
      "source": [
        "!rm -rv ./fashion_data\n",
        "!cp -rv \"drive/My Drive/Category and Attribute Prediction Benchmark/\" ./TEMP\n",
        "!mv ./TEMP ./fashion_data\n"
      ],
      "execution_count": 0,
      "outputs": []
    },
    {
      "cell_type": "code",
      "metadata": {
        "id": "r4OKo3eYSMrk",
        "colab_type": "code",
        "colab": {}
      },
      "source": [
        "!unzip ./fashion_data/Img/img.zip -d ./fashion_data/Img"
      ],
      "execution_count": 0,
      "outputs": []
    },
    {
      "cell_type": "markdown",
      "metadata": {
        "colab_type": "text",
        "id": "FlBTiDvLNN-2"
      },
      "source": [
        "#### Tensorflow Object Detection API"
      ]
    },
    {
      "cell_type": "code",
      "metadata": {
        "id": "cib-sLH-6CHj",
        "colab_type": "code",
        "colab": {}
      },
      "source": [
        "!pip install tf_slim"
      ],
      "execution_count": 0,
      "outputs": []
    },
    {
      "cell_type": "code",
      "metadata": {
        "colab_type": "code",
        "id": "nh291ejD8Wf6",
        "colab": {}
      },
      "source": [
        "# загружаем репозиторий, добавляем в PYTHONPATH\n",
        "! cd /content; git clone https://github.com/tensorflow/models.git\n",
        "# установка зависимостей для object detection тут \n",
        "# https://github.com/tensorflow/models/blob/master/research/object_detection/g3doc/installation.md\n",
        "!apt-get install protobuf-compiler python-pil python-lxml python-tk\n",
        "!pip install Cython\n",
        "!cd /content; git clone https://github.com/cocodataset/cocoapi.git; cd cocoapi/PythonAPI; make; cp -r pycocotools /content/models/research/\n",
        "!cd /content/models/research; protoc object_detection/protos/*.proto --python_out=.\n",
        "# проверка\n",
        "!cd /content/models/research; export PYTHONPATH=$PYTHONPATH:`pwd`:`pwd`/slim; python object_detection/builders/model_builder_test.py"
      ],
      "execution_count": 0,
      "outputs": []
    },
    {
      "cell_type": "markdown",
      "metadata": {
        "colab_type": "text",
        "id": "fQQjHIgCOPPd"
      },
      "source": [
        "#### Создание структуры данных"
      ]
    },
    {
      "cell_type": "code",
      "metadata": {
        "id": "9Lkq61gUuqW9",
        "colab_type": "code",
        "colab": {}
      },
      "source": [
        "import sys\n",
        "import os\n",
        "\n",
        "import numpy as np\n",
        "\n",
        "API_PATH = os.path.join('/content', 'models/research')\n",
        "sys.path.append(API_PATH)\n",
        "\n",
        "DETECTOR_PATH = os.path.join('/content', 'TFFashionDetection')\n",
        "sys.path.append(DETECTOR_PATH)\n",
        "\n",
        "from TFFashionDetection.data_preparator import DataPreparator\n",
        "from TFFashionDetection.utils.ssd_config import write_config\n",
        "\n",
        "data_preparator = DataPreparator()\n",
        "data_preparator.build()\n",
        "write_config('ssd_mobilenet_v2_coco_2018_03_29')"
      ],
      "execution_count": 0,
      "outputs": []
    },
    {
      "cell_type": "code",
      "metadata": {
        "colab_type": "code",
        "id": "cy-ogz0dCteU",
        "colab": {}
      },
      "source": [
        "# скачиваем модель (предобученную)\n",
        "!python /content/TFFashionDetection/utils/download_tf_zoo_model.py --name ssd_mobilenet_v2_coco_2018_03_29 --dir /content"
      ],
      "execution_count": 0,
      "outputs": []
    },
    {
      "cell_type": "markdown",
      "metadata": {
        "colab_type": "text",
        "id": "LgOF2oH3O50H"
      },
      "source": [
        "### Обучаем модель детекции"
      ]
    },
    {
      "cell_type": "code",
      "metadata": {
        "colab_type": "code",
        "id": "9E44f7Wme682",
        "colab": {}
      },
      "source": [
        "!export PYTHONPATH=$PYTHONPATH:/content/models/research/slim:/content/models/research/;python /content/models/research/object_detection/legacy/train.py --logtostderr --pipeline_config_path=/content/data_dir/tf_api.config --train_dir=/content/data_dir/checkpoints"
      ],
      "execution_count": 0,
      "outputs": []
    },
    {
      "cell_type": "markdown",
      "metadata": {
        "colab_type": "text",
        "id": "W9qCaghdPEkb"
      },
      "source": [
        "### Сохраняем чекпоинт на Гугл-диск"
      ]
    },
    {
      "cell_type": "code",
      "metadata": {
        "colab_type": "code",
        "id": "dIbeT_14-AHE",
        "colab": {}
      },
      "source": [
        "!cd /content/data_dir; zip -r checkpoint_save_20180514.zip checkpoints/*\n",
        "import os\n",
        "fs = GoogleColabFS()\n",
        "\n",
        "file_name = os.path.join('/content/data_dir', 'checkpoint_save_20180514.zip')\n",
        "\n",
        "fs.load_to_drive(file_name)"
      ],
      "execution_count": 0,
      "outputs": []
    },
    {
      "cell_type": "markdown",
      "metadata": {
        "colab_type": "text",
        "id": "8RF5bTD2en0y"
      },
      "source": [
        "### Скачиваем с Гугл-диска и экспортируем модель"
      ]
    },
    {
      "cell_type": "code",
      "metadata": {
        "colab_type": "code",
        "id": "XnNwbBqyenbl",
        "colab": {}
      },
      "source": [
        "import logging\n",
        "import os\n",
        "\n",
        "logger = logging.getLogger(__name__)\n",
        "\n",
        "fs.load_file_from_drive('/content', 'checkpoint_save_20180514.zip')\n",
        "fs.unzip_file('/content', 'checkpoint_save_20180514.zip')\n",
        "\n",
        "!mkdir /content/deep_detection_model\n",
        "\n",
        "# экспортируем модель\n",
        "!export PYTHONPATH=$PYTHONPATH:/content/models/research/slim:/content/models/research/;python /content/models/research/object_detection/export_inference_graph.py --input_type image_tensor --pipeline_config_path=/content/data_dir/tf_api.config --trained_checkpoint_prefix=/content/checkpoints/model.ckpt-2108 --output_directory inference_graph"
      ],
      "execution_count": 0,
      "outputs": []
    },
    {
      "cell_type": "code",
      "metadata": {
        "colab_type": "code",
        "id": "2Pm4-_IzhMZb",
        "colab": {}
      },
      "source": [
        "from IPython.display import Image\n",
        "import os\n",
        "\n",
        "file_path = os.path.join('/content/data_dir/images', os.listdir('/content/data_dir/images')[6])\n",
        "\n",
        "Image(file_path)"
      ],
      "execution_count": 0,
      "outputs": []
    },
    {
      "cell_type": "markdown",
      "metadata": {
        "colab_type": "text",
        "id": "88OdP3CmeLi_"
      },
      "source": [
        "### Пример детекции"
      ]
    },
    {
      "cell_type": "code",
      "metadata": {
        "id": "ue3Btp-Moi5z",
        "colab_type": "code",
        "colab": {}
      },
      "source": [
        "\n",
        "\n",
        "from TFFashionDetection.tf_object_detector import ObjectDetector\n",
        "import numpy as np\n",
        "\n",
        "oject_detector = ObjectDetector('/content/frozen_model/ssd_mobilenet_v2_coco_2018_03_29/frozen_inference_graph.pb', '/content/data_dir/annotations/label_map.pbtxt')\n",
        "\n",
        "oject_detector.object_detection(image_dir='/content/data_dir/images', filename=file_path)\n",
        "[[i['category_box'],i['img_name'],i['category_id'], i['category_proba']] for i in oject_detector.img_detections[:5]]\n",
        "#oject_detector.img_detections\n",
        "np.unique([i['category_name'] for i in oject_detector.img_detections])"
      ],
      "execution_count": 0,
      "outputs": []
    },
    {
      "cell_type": "code",
      "metadata": {
        "colab_type": "code",
        "id": "CxUDll-LyVLj",
        "colab": {}
      },
      "source": [
        "import sys\n",
        "import os\n",
        "\n",
        "import matplotlib.pyplot as plt\n",
        "plt.switch_backend('agg')\n",
        "\n",
        "sys.path.append(os.path.join('/content', 'models/research'))\n",
        "from object_detection.utils import visualization_utils as vis_util\n",
        "\n",
        "from PIL import Image as Pil_image\n",
        "\n",
        "%matplotlib inline\n",
        "boxes = np.array([oject_detector.img_detections[3]['category_box']])\n",
        "\n",
        "def load_image_into_numpy_array(image):\n",
        "  (im_width, im_height) = image.size\n",
        "  return np.array(image.getdata()).reshape(\n",
        "      (im_height, im_width, 3)).astype(np.uint8)\n",
        "# загружаем картинку и превращаем в массив\n",
        "image = Pil_image.open(file_path)\n",
        "image_np = load_image_into_numpy_array(image)\n",
        "# накладываем на массив bounding boxes\n",
        "vis_util.draw_bounding_boxes_on_image_array(image_np, boxes)\n",
        "# сохраняем картинку на диск\n",
        "result_file_path = os.path.join('/content', 'test.png')\n",
        "vis_util.save_image_array_as_png(image_np, result_file_path)\n",
        "# виуализируем картинку, которую сохранили\n",
        "from IPython.display import Image\n",
        "Image(result_file_path)"
      ],
      "execution_count": 0,
      "outputs": []
    },
    {
      "cell_type": "code",
      "metadata": {
        "colab_type": "code",
        "id": "uxbsX3Oxyma6",
        "colab": {}
      },
      "source": [
        "ls /content"
      ],
      "execution_count": 0,
      "outputs": []
    },
    {
      "cell_type": "markdown",
      "metadata": {
        "colab_type": "text",
        "id": "w0mBr-H5px_G"
      },
      "source": [
        "### Получаем эмбеддинги изображений"
      ]
    },
    {
      "cell_type": "code",
      "metadata": {
        "colab_type": "code",
        "id": "c-YBqtenzVkx",
        "colab": {}
      },
      "source": [
        "from TFFashionDetection import feature_extraction as ftrs\n",
        "import tensorflow.compat.v1 as tf\n",
        "tf.disable_v2_behavior()\n",
        "\n",
        "ftrs.get_dir_embeddings(model_dir='/content/deep_detection_model', data_dir='/content/data_dir/images', num_top_predictions=1, max_images=500)"
      ],
      "execution_count": 0,
      "outputs": []
    },
    {
      "cell_type": "code",
      "metadata": {
        "colab_type": "code",
        "id": "KFHk9Y51vn-n",
        "colab": {}
      },
      "source": [
        "import pickle\n",
        "\n",
        "embeds_file = '/content/data_dir/img_embeddings.pkl'\n",
        "\n",
        "embeds = pickle.load(open(embeds_file, 'rb'))"
      ],
      "execution_count": 0,
      "outputs": []
    },
    {
      "cell_type": "code",
      "metadata": {
        "colab_type": "code",
        "id": "aq2RfuoTn9kv",
        "colab": {}
      },
      "source": [
        "from sklearn.neighbors import KDTree\n",
        "import numpy as np\n",
        "num_embeds = len(embeds)\n",
        "embed_index = dict(zip(embeds.keys(), range(num_embeds)))\n",
        "inverted_index = {j:i for i,j in embed_index.items()}\n",
        "\n",
        "embed_matrix = np.vstack([embeds[k] for k in embed_index])\n",
        "\n",
        "kdt = KDTree(embed_matrix, leaf_size=30, metric='euclidean')"
      ],
      "execution_count": 0,
      "outputs": []
    },
    {
      "cell_type": "code",
      "metadata": {
        "colab_type": "code",
        "id": "P7-5hGvVosml",
        "colab": {}
      },
      "source": [
        "test_id = embed_index[list(embed_index.keys())[620]]\n",
        "\n",
        "test_example = embed_matrix[test_id]\n",
        "sim_query = kdt.query(test_example.reshape(1,-1), k=5, return_distance=False)"
      ],
      "execution_count": 0,
      "outputs": []
    },
    {
      "cell_type": "code",
      "metadata": {
        "colab_type": "code",
        "id": "BjtGDLBhpB9V",
        "colab": {}
      },
      "source": [
        "from IPython.display import Image\n",
        "import os\n",
        "\n",
        "#file_path = '/content/data_dir/images/americana_skinny_jeans_img_00000030.jpg'\n",
        "#file_path = '/content/data_dir/images/zippered_sweatpants_img_00000046.jpg'\n",
        "file_path = inverted_index[sim_query[0][0]]\n",
        "\n",
        "Image(file_path)"
      ],
      "execution_count": 0,
      "outputs": []
    },
    {
      "cell_type": "code",
      "metadata": {
        "colab_type": "code",
        "id": "JnP2MXU8qtAo",
        "colab": {}
      },
      "source": [
        "file_path = inverted_index[sim_query[0][1]]\n",
        "\n",
        "Image(file_path)"
      ],
      "execution_count": 0,
      "outputs": []
    },
    {
      "cell_type": "code",
      "metadata": {
        "id": "kvOooQpGJxCV",
        "colab_type": "code",
        "colab": {}
      },
      "source": [
        ""
      ],
      "execution_count": 0,
      "outputs": []
    }
  ]
}